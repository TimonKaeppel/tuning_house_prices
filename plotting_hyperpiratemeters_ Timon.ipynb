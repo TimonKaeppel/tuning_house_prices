{
 "cells": [
  {
   "cell_type": "markdown",
   "metadata": {},
   "source": [
    "# Analysis Tuning Parameters"
   ]
  },
  {
   "cell_type": "markdown",
   "metadata": {},
   "source": [
    "## Imports"
   ]
  },
  {
   "cell_type": "code",
   "execution_count": 11,
   "metadata": {},
   "outputs": [
    {
     "data": {
      "text/plain": [
       "Index(['Unnamed: 0', 'num.trees', 'sample.fraction', 'mtry', 'replace',\n",
       "       'min.node.size', 'mse', 'runtime_training', 'runtime_prediction'],\n",
       "      dtype='object')"
      ]
     },
     "execution_count": 11,
     "metadata": {},
     "output_type": "execute_result"
    }
   ],
   "source": [
    "import pandas as pd\n",
    "import os\n",
    "\n",
    "# solo\n",
    "mtry_df = pd.read_csv('resources/results_solo_grid/mtry.csv')\n",
    "num_trees_df = pd.read_csv('resources/results_solo_grid/num_trees.csv')\n",
    "min_node_size_df = pd.read_csv('resources/results_solo_grid/min_node_size.csv')\n",
    "replace_df = pd.read_csv('resources/results_solo_grid/replace.csv')\n",
    "sample_fraction_df = pd.read_csv('resources/results_solo_grid/sample_fraction.csv')\n",
    "\n",
    "# pairwise\n",
    "directory = \"resources/results_pairwise_random\"\n",
    "for filename in os.listdir(directory):\n",
    "    if filename.endswith('.csv'):\n",
    "        filepath = os.path.join(directory, filename)\n",
    "        # Remove the .csv from the filename to use as the variable name\n",
    "        var_name = filename[:-4] + '_df'\n",
    "        # Load the dataframe and assign it to a variable with the name in var_name\n",
    "        df = pd.read_csv(filepath)\n",
    "        # Drop the 'Unnamed: 0' column\n",
    "        df = df.drop('Unnamed: 0', axis=1)\n",
    "        globals()[var_name] = df\n",
    "\n",
    "# all 5\n",
    "results_all_bayesian_df = pd.read_csv('resources/results_all_search_algo/tuning_results.csv')\n",
    "results_all_random_df = pd.read_csv('resources/results_all_random/results.csv')\n",
    "\n",
    "# rename columns '_' --> '.' \n",
    "column_mapping = {col: col.replace('_', '.') for col in results_all_random_df.columns if col not in ['runtime_training', 'runtime_prediction']}\n",
    "results_all_random_df.rename(columns=column_mapping, inplace=True)\n",
    "results_all_random_df.columns"
   ]
  },
  {
   "cell_type": "markdown",
   "metadata": {},
   "source": [
    "## Solo"
   ]
  },
  {
   "cell_type": "markdown",
   "metadata": {},
   "source": [
    "### MSE"
   ]
  },
  {
   "cell_type": "code",
   "execution_count": null,
   "metadata": {},
   "outputs": [],
   "source": [
    "import plotly.graph_objects as go\n",
    "\n",
    "fig1 = go.Figure()\n",
    "fig1.add_trace(go.Scatter(x=mtry_df['mtry'], y=mtry_df['mse'], mode='lines', name='mse'))\n",
    "fig1.update_layout(title='mtry vs mse', xaxis_title='mtry', yaxis_title='mse')\n",
    "# fig1.show()\n",
    "fig1.write_image('resources/results_solo_grid/pictures/mtry_vs_mse.png')\n",
    "\n",
    "fig2 = go.Figure()\n",
    "fig2.add_trace(go.Scatter(x=num_trees_df['num_trees'], y=num_trees_df['mse'], mode='lines', name='mse'))\n",
    "fig2.update_layout(title='num.trees vs mse', xaxis_title='num.trees', yaxis_title='mse')\n",
    "# fig2.show()\n",
    "fig2.write_image('resources/results_solo_grid/pictures/num_trees_vs_mse.png')\n",
    "\n",
    "fig3 = go.Figure()\n",
    "fig3.add_trace(go.Scatter(x=min_node_size_df['min.node.size'], y=min_node_size_df['mse'], mode='lines', name='mse'))\n",
    "fig3.update_layout(title='min.node.size vs mse', xaxis_title='min.node.size', yaxis_title='mse')\n",
    "# fig3.show()\n",
    "fig3.write_image('resources/results_solo_grid/pictures/min_node_size_vs_mse.png')\n",
    "\n",
    "fig4 = go.Figure()\n",
    "fig4.add_trace(go.Scatter(x=sample_fraction_df['sample.fraction'], y=sample_fraction_df['mse'], mode='lines', name='mse'))\n",
    "fig4.update_layout(title='sample.fraction vs mse', xaxis_title='sample.fraction', yaxis_title='mse')\n",
    "# fig4.show()\n",
    "fig4.write_image('resources/results_solo_grid/pictures/sample_fraction_vs_mse.png')\n",
    "\n",
    "fig5 = go.Figure()\n",
    "fig5.add_trace(go.Bar(x=replace_df['replace'], y=replace_df['mse']))\n",
    "fig5.update_layout(title='replace vs mse', xaxis_title='replace', yaxis_title='mse')\n",
    "# fig5.show()\n",
    "fig5.write_image('resources/results_solo_grid/pictures/replace_vs_mse.png')\n"
   ]
  },
  {
   "cell_type": "markdown",
   "metadata": {},
   "source": [
    "### Runtime training & prediction"
   ]
  },
  {
   "cell_type": "code",
   "execution_count": null,
   "metadata": {},
   "outputs": [],
   "source": [
    "import plotly.graph_objects as go\n",
    "\n",
    "\n",
    "fig1 = go.Figure()\n",
    "fig1.add_trace(go.Scatter(x=mtry_df['mtry'], y=mtry_df['runtime_training'], mode='lines', name='runtime_training'))\n",
    "fig1.add_trace(go.Scatter(x=mtry_df['mtry'], y=mtry_df['runtime_prediction'], mode='lines', name='runtime_prediction'))\n",
    "fig1.update_layout(title='mtry vs runtime', xaxis_title='mtry', yaxis_title='runtime')\n",
    "# fig1.show()\n",
    "# fig1.write_image(\"resources/results_solo_grid/pictures/mtry_runtime.png\")\n",
    "\n",
    "\n",
    "fig2 = go.Figure()\n",
    "fig2.add_trace(go.Scatter(x=num_trees_df['num_trees'], y=num_trees_df['runtime_training'], mode='lines', name='runtime_training'))\n",
    "fig2.add_trace(go.Scatter(x=num_trees_df['num_trees'], y=num_trees_df['runtime_prediction'], mode='lines', name='runtime_prediction'))\n",
    "fig2.update_layout(title='num.trees vs runtime', xaxis_title='num.trees', yaxis_title='runtime')\n",
    "# fig2.show()\n",
    "# fig2.write_image(\"resources/results_solo_grid/pictures/num_trees_runtime.png\")\n",
    "\n",
    "\n",
    "fig3 = go.Figure()\n",
    "fig3.add_trace(go.Scatter(x=min_node_size_df['min.node.size'], y=min_node_size_df['runtime_training'], mode='lines', name='runtime_training'))\n",
    "fig3.add_trace(go.Scatter(x=min_node_size_df['min.node.size'], y=min_node_size_df['runtime_prediction'], mode='lines', name='runtime_prediction'))\n",
    "fig3.update_layout(title='min.node.size vs runtime', xaxis_title='min.node.size', yaxis_title='runtime')\n",
    "# fig3.show()\n",
    "# fig3.write_image(\"resources/results_solo_grid/pictures/min_node_size_runtime.png\")\n",
    "\n",
    "\n",
    "fig4 = go.Figure()\n",
    "fig4.add_trace(go.Scatter(x=sample_fraction_df['sample.fraction'], y=sample_fraction_df['runtime_training'], mode='lines', name='runtime_training'))\n",
    "fig4.add_trace(go.Scatter(x=sample_fraction_df['sample.fraction'], y=sample_fraction_df['runtime_prediction'], mode='lines', name='runtime_prediction'))\n",
    "fig4.update_layout(title='sample.fraction vs runtime', xaxis_title='sample.fraction', yaxis_title='runtime')\n",
    "# fig4.show()\n",
    "# fig4.write_image(\"resources/results_solo_grid/pictures/sample_fraction_runtime.png\")\n",
    "\n",
    "\n",
    "fig5 = go.Figure()\n",
    "fig5.add_trace(go.Bar(x=replace_df['replace'], y=replace_df['runtime_training'], name='runtime_training'))\n",
    "fig5.add_trace(go.Bar(x=replace_df['replace'], y=replace_df['runtime_prediction'], name='runtime_prediction'))\n",
    "fig5.update_layout(title='replace vs runtime', xaxis_title='replace', yaxis_title='runtime')\n",
    "# fig5.show()\n",
    "# fig5.write_image(\"resources/results_solo_grid/pictures/replace_runtime.png\")\n"
   ]
  },
  {
   "cell_type": "markdown",
   "metadata": {},
   "source": [
    "## Pairwise"
   ]
  },
  {
   "cell_type": "markdown",
   "metadata": {},
   "source": [
    "### mse"
   ]
  },
  {
   "cell_type": "code",
   "execution_count": null,
   "metadata": {},
   "outputs": [],
   "source": [
    "import plotly.graph_objects as go\n",
    "\n",
    "df_names = ['num_trees_min_node_size_df', 'num_trees_replace_df', 'num_trees_mtry_df', 'num_trees_sample_fraction_df', 'mtry_sample_fraction_df', 'mtry_replace_df', 'mtry_min_node_size_df', 'min_node_size_replace_df', 'sample_fraction_min_node_size_df', 'sample_fraction_replace_df']\n",
    "\n",
    "for df_name in df_names:\n",
    "    df = globals()[df_name]\n",
    "    # Select the first 5 columns and drop columns that only contain NaN\n",
    "    df1 = df[df.columns[:6]].dropna(axis=1, how='all')\n",
    "    df2 = df1[df1.columns[:2]]\n",
    "    # Get the column names for the hyperparameters\n",
    "    hyperparameter1, hyperparameter2 = df2.columns\n",
    "\n",
    "    # 3D scatter plot\n",
    "    fig = go.Figure(data=[go.Scatter3d(\n",
    "        x=df[hyperparameter1],\n",
    "        y=df[hyperparameter2],\n",
    "        z=df['mse'],\n",
    "        mode='markers',\n",
    "        marker=dict(\n",
    "            size=4,\n",
    "            color=df['mse'],  \n",
    "            colorscale='Viridis',  \n",
    "            opacity=0.8\n",
    "        )\n",
    "    )])\n",
    "\n",
    "    \n",
    "    fig.update_layout(scene = dict(\n",
    "                    xaxis_title=hyperparameter1,\n",
    "                    yaxis_title=hyperparameter2,\n",
    "                    zaxis_title='MSE'),\n",
    "                    width=700,\n",
    "                    margin=dict(r=20, b=10, l=10, t=10))\n",
    "\n",
    "    # fig.show()\n",
    "    #export as svg:\n",
    "    fig.write_html(f\"resources/results_pairwise_random/pictures/{df_name}.html\")"
   ]
  },
  {
   "cell_type": "markdown",
   "metadata": {},
   "source": [
    "### runtime training"
   ]
  },
  {
   "cell_type": "code",
   "execution_count": null,
   "metadata": {},
   "outputs": [],
   "source": [
    "import plotly.graph_objects as go\n",
    "\n",
    "df_names = ['num_trees_min_node_size_df', 'num_trees_replace_df', 'num_trees_mtry_df', 'num_trees_sample_fraction_df', 'mtry_sample_fraction_df', 'mtry_replace_df', 'mtry_min_node_size_df', 'min_node_size_replace_df', 'sample_fraction_min_node_size_df', 'sample_fraction_replace_df']\n",
    "\n",
    "for df_name in df_names:\n",
    "    df = globals()[df_name]\n",
    "    # Select the first 5 columns and drop columns that only contain NaN\n",
    "    df1 = df[df.columns[:6]].dropna(axis=1, how='all')\n",
    "    df2 = df1[df1.columns[:2]]\n",
    "    # Get the column names for the hyperparameters\n",
    "    hyperparameter1, hyperparameter2 = df2.columns\n",
    "\n",
    "    # 3D scatter plot\n",
    "    fig = go.Figure(data=[go.Scatter3d(\n",
    "        x=df[hyperparameter1],\n",
    "        y=df[hyperparameter2],\n",
    "        z=df['runtime_training'],\n",
    "        mode='markers',\n",
    "        marker=dict(\n",
    "            size=4,\n",
    "            color=df['runtime_training'],  \n",
    "            colorscale='Viridis',  \n",
    "            opacity=0.8\n",
    "        )\n",
    "    )])\n",
    "\n",
    "    \n",
    "    fig.update_layout(scene = dict(\n",
    "                    xaxis_title=hyperparameter1,\n",
    "                    yaxis_title=hyperparameter2,\n",
    "                    zaxis_title='Runtime Training'),\n",
    "                    width=700,\n",
    "                    margin=dict(r=20, b=10, l=10, t=10))\n",
    "\n",
    "    # fig.show()\n",
    "    fig.write_html(f\"resources/results_pairwise_random/pictures/runtime_training/{df_name}.html\")"
   ]
  },
  {
   "cell_type": "markdown",
   "metadata": {},
   "source": [
    "### runtime prediction"
   ]
  },
  {
   "cell_type": "code",
   "execution_count": null,
   "metadata": {},
   "outputs": [],
   "source": [
    "import plotly.graph_objects as go\n",
    "\n",
    "df_names = ['num_trees_min_node_size_df', 'num_trees_replace_df', 'num_trees_mtry_df', 'num_trees_sample_fraction_df', 'mtry_sample_fraction_df', 'mtry_replace_df', 'mtry_min_node_size_df', 'min_node_size_replace_df', 'sample_fraction_min_node_size_df', 'sample_fraction_replace_df']\n",
    "\n",
    "for df_name in df_names:\n",
    "    df = globals()[df_name]\n",
    "    # Select the first 5 columns and drop columns that only contain NaN\n",
    "    df1 = df[df.columns[:6]].dropna(axis=1, how='all')\n",
    "    df2 = df1[df1.columns[:2]]\n",
    "    # Get the column names for the hyperparameters\n",
    "    hyperparameter1, hyperparameter2 = df2.columns\n",
    "\n",
    "    # 3D scatter plot\n",
    "    fig = go.Figure(data=[go.Scatter3d(\n",
    "        x=df[hyperparameter1],\n",
    "        y=df[hyperparameter2],\n",
    "        z=df['runtime_prediction'],\n",
    "        mode='markers',\n",
    "        marker=dict(\n",
    "            size=4,\n",
    "            color=df['runtime_prediction'],  \n",
    "            colorscale='Viridis',  \n",
    "            opacity=0.8\n",
    "        )\n",
    "    )])\n",
    "\n",
    "    \n",
    "    fig.update_layout(scene = dict(\n",
    "                    xaxis_title=hyperparameter1,\n",
    "                    yaxis_title=hyperparameter2,\n",
    "                    zaxis_title='Runtime Prediction'),\n",
    "                    width=700,\n",
    "                    margin=dict(r=20, b=10, l=10, t=10))\n",
    "\n",
    "    # fig.show()\n",
    "    fig.write_html(f\"resources/results_pairwise_random/pictures/runtime_prediction/{df_name}.html\")"
   ]
  },
  {
   "cell_type": "markdown",
   "metadata": {},
   "source": [
    "## All"
   ]
  },
  {
   "cell_type": "markdown",
   "metadata": {},
   "source": [
    "### Randomsearch"
   ]
  },
  {
   "cell_type": "code",
   "execution_count": null,
   "metadata": {},
   "outputs": [],
   "source": [
    "import pandas as pd\n",
    "import matplotlib.pyplot as plt\n",
    "import matplotlib.colors as mcolors\n",
    "from sklearn.preprocessing import MinMaxScaler\n",
    "import numpy as np\n",
    "\n",
    "df = results_all_random_df[['num_trees', 'mtry', 'sample_fraction', 'min_node_size', 'replace', 'mse']]\n",
    "\n",
    "scaler = MinMaxScaler()\n",
    "df_normalized = pd.DataFrame(scaler.fit_transform(df), columns=df.columns)\n",
    "\n",
    "# Parallel Coordinates Plot \n",
    "plt.figure(figsize=(15, 6))\n",
    "pd.plotting.parallel_coordinates(df_normalized, 'mse', colormap='RdBu')\n",
    "plt.title('Parallel Coordinates Plot - Hyperparameter Combinations')\n",
    "plt.xlabel('Hyperparameters')\n",
    "plt.ylabel('Relative Value')\n",
    "\n",
    "# Color scale bar\n",
    "sm = plt.cm.ScalarMappable(cmap='RdBu', norm=plt.Normalize(vmin=min(df['mse']), vmax=max(df['mse'])))\n",
    "plt.colorbar(sm, ax=plt.gca())\n",
    "# remove legend\n",
    "plt.legend().remove()\n",
    "plt.show()\n",
    "# plt.savefig('resources/results_all_random/parallel_coordinates_plot.png')"
   ]
  },
  {
   "cell_type": "code",
   "execution_count": null,
   "metadata": {},
   "outputs": [],
   "source": [
    "import pandas as pd\n",
    "import matplotlib.pyplot as plt\n",
    "from sklearn.preprocessing import MinMaxScaler\n",
    "\n",
    "df = results_all_random_df[['num_trees', 'mtry', 'sample_fraction', 'min_node_size', 'replace', 'mse']]\n",
    "\n",
    "# Filter the best 100 mse scores\n",
    "df = df.nsmallest(100, 'mse')\n",
    "\n",
    "scaler = MinMaxScaler()\n",
    "df_normalized = pd.DataFrame(scaler.fit_transform(df), columns=df.columns)\n",
    "\n",
    "# Parallel Coordinates Plot \n",
    "plt.figure(figsize=(15, 6))\n",
    "pd.plotting.parallel_coordinates(df_normalized, 'mse', colormap='RdBu')\n",
    "plt.title('Parallel Coordinates Plot - Top 100 Hyperparameter Combinations')\n",
    "plt.xlabel('Hyperparameters')\n",
    "plt.ylabel('Relative Value')\n",
    "plt.legend().remove()\n",
    "plt.show()"
   ]
  },
  {
   "cell_type": "code",
   "execution_count": null,
   "metadata": {},
   "outputs": [],
   "source": [
    "import pandas as pd\n",
    "import matplotlib.pyplot as plt\n",
    "from sklearn.preprocessing import MinMaxScaler\n",
    "\n",
    "df = results_all_random_df[['num_trees', 'mtry', 'sample_fraction', 'min_node_size', 'replace', 'mse']]\n",
    "\n",
    "# Filter the best 50 mse scores\n",
    "df_best = df.nsmallest(100, 'mse')\n",
    "\n",
    "# Filter the worst 50 mse scores\n",
    "df_worst = df.nlargest(100, 'mse')\n",
    "\n",
    "# Concatenate the best and worst dataframes\n",
    "df_combined = pd.concat([df_best, df_worst])\n",
    "\n",
    "scaler = MinMaxScaler()\n",
    "\n",
    "# Normalize the combined dataframe\n",
    "df_normalized = pd.DataFrame(scaler.fit_transform(df_combined), columns=df_combined.columns)\n",
    "\n",
    "# Parallel Coordinates Plot for the best and worst 100\n",
    "plt.figure(figsize=(15, 6))\n",
    "pd.plotting.parallel_coordinates(df_normalized, 'mse', colormap='RdBu')\n",
    "plt.title('Parallel Coordinates Plot - Top and Worst 100 Hyperparameter Combinations regarding MSE')\n",
    "plt.xlabel('Hyperparameters')\n",
    "plt.ylabel('Relative Value')\n",
    "plt.legend().remove()\n",
    "plt.show()"
   ]
  },
  {
   "cell_type": "markdown",
   "metadata": {},
   "source": [
    "### Runtime training"
   ]
  },
  {
   "cell_type": "code",
   "execution_count": null,
   "metadata": {},
   "outputs": [],
   "source": [
    "df = results_all_random_df[['num_trees', 'mtry', 'sample_fraction', 'min_node_size', 'replace', 'runtime_training']]\n",
    "\n",
    "scaler = MinMaxScaler()\n",
    "\n",
    "df_normalized = pd.DataFrame(scaler.fit_transform(df), columns=df.columns)\n",
    "\n",
    "# Parallel Coordinates Plot \n",
    "plt.figure(figsize=(15, 6))\n",
    "pd.plotting.parallel_coordinates(df_normalized, 'runtime_training', colormap='RdBu')\n",
    "plt.title('Parallel Coordinates Plot - Hyperparameter Combinations - Runtime Training')\n",
    "plt.xlabel('Hyperparameters')\n",
    "plt.ylabel('Relative Value')\n",
    "plt.legend().remove()\n",
    "plt.show()"
   ]
  },
  {
   "cell_type": "code",
   "execution_count": null,
   "metadata": {},
   "outputs": [],
   "source": [
    "import pandas as pd\n",
    "import matplotlib.pyplot as plt\n",
    "from sklearn.preprocessing import MinMaxScaler\n",
    "\n",
    "df = results_all_random_df[['num_trees', 'mtry', 'sample_fraction', 'min_node_size', 'replace', 'runtime_training']]\n",
    "\n",
    "# Filter the best 50 mse scores\n",
    "df_best = df.nsmallest(100, 'runtime_training')\n",
    "\n",
    "# Filter the worst 50 mse scores\n",
    "df_worst = df.nlargest(100, 'runtime_training')\n",
    "\n",
    "# Concatenate the best and worst dataframes\n",
    "df_combined = pd.concat([df_best, df_worst])\n",
    "\n",
    "scaler = MinMaxScaler()\n",
    "\n",
    "# Normalize the combined dataframe\n",
    "df_normalized = pd.DataFrame(scaler.fit_transform(df_combined), columns=df_combined.columns)\n",
    "\n",
    "# Parallel Coordinates Plot for the best and worst 100\n",
    "plt.figure(figsize=(15, 6))\n",
    "pd.plotting.parallel_coordinates(df_normalized, 'runtime_training', colormap='RdBu')\n",
    "plt.title('Parallel Coordinates Plot - Top and Worst 100 Hyperparameter Combinations regarding Runtime Training')\n",
    "plt.xlabel('Hyperparameters')\n",
    "plt.ylabel('Relative Value')\n",
    "plt.legend().remove()\n",
    "plt.show()"
   ]
  },
  {
   "cell_type": "markdown",
   "metadata": {},
   "source": [
    "### Runtime Prediction"
   ]
  },
  {
   "cell_type": "code",
   "execution_count": null,
   "metadata": {},
   "outputs": [],
   "source": [
    "df = results_all_random_df[['num_trees', 'mtry', 'sample_fraction', 'min_node_size', 'replace', 'runtime_prediction']]\n",
    "\n",
    "scaler = MinMaxScaler()\n",
    "\n",
    "df_normalized = pd.DataFrame(scaler.fit_transform(df), columns=df.columns)\n",
    "\n",
    "# Parallel Coordinates Plot \n",
    "plt.figure(figsize=(15, 6))\n",
    "pd.plotting.parallel_coordinates(df_normalized, 'runtime_prediction', colormap='RdBu')\n",
    "plt.title('Parallel Coordinates Plot - Hyperparameter Combinations - Runtime Prediction')\n",
    "plt.xlabel('Hyperparameters')\n",
    "plt.ylabel('Relative Value')\n",
    "plt.legend().remove()\n",
    "plt.show()"
   ]
  },
  {
   "cell_type": "code",
   "execution_count": null,
   "metadata": {},
   "outputs": [],
   "source": [
    "import pandas as pd\n",
    "import matplotlib.pyplot as plt\n",
    "from sklearn.preprocessing import MinMaxScaler\n",
    "\n",
    "df = results_all_random_df[['num_trees', 'mtry', 'sample_fraction', 'min_node_size', 'replace', 'runtime_prediction']]\n",
    "\n",
    "# Filter the best 50 mse scores\n",
    "df_best = df.nsmallest(100, 'runtime_prediction')\n",
    "\n",
    "# Filter the worst 50 mse scores\n",
    "df_worst = df.nlargest(100, 'runtime_prediction')\n",
    "\n",
    "# Concatenate the best and worst dataframes\n",
    "df_combined = pd.concat([df_best, df_worst])\n",
    "\n",
    "scaler = MinMaxScaler()\n",
    "\n",
    "# Normalize the combined dataframe\n",
    "df_normalized = pd.DataFrame(scaler.fit_transform(df_combined), columns=df_combined.columns)\n",
    "\n",
    "# Parallel Coordinates Plot for the best and worst 100\n",
    "plt.figure(figsize=(15, 6))\n",
    "pd.plotting.parallel_coordinates(df_normalized, 'runtime_prediction', colormap='RdBu')\n",
    "plt.title('Parallel Coordinates Plot - Top and Worst 100 Hyperparameter Combinations regarding Runtime Prediction')\n",
    "plt.xlabel('Hyperparameters')\n",
    "plt.ylabel('Relative Value')\n",
    "plt.legend().remove()\n",
    "plt.show()"
   ]
  },
  {
   "cell_type": "markdown",
   "metadata": {},
   "source": [
    "### Bayesian Optimization"
   ]
  },
  {
   "cell_type": "code",
   "execution_count": null,
   "metadata": {},
   "outputs": [],
   "source": [
    "import pandas as pd\n",
    "import matplotlib.pyplot as plt\n",
    "from sklearn.preprocessing import MinMaxScaler\n",
    "\n",
    "df = results_all_bayesian_df[['num.trees', 'mtry', 'sample.fraction', 'min.node.size', 'replace', 'mse']]\n",
    "\n",
    "scaler = MinMaxScaler()\n",
    "df_normalized = pd.DataFrame(scaler.fit_transform(df), columns=df.columns)\n",
    "\n",
    "# Parallel Coordinates Plot \n",
    "plt.figure(figsize=(15, 6))\n",
    "pd.plotting.parallel_coordinates(df_normalized, 'mse', colormap='RdBu')\n",
    "plt.title('Parallel Coordinates Plot - Hyperparameter Combinations')\n",
    "plt.xlabel('Hyperparameters')\n",
    "plt.ylabel('Relative Value')\n",
    "plt.legend().remove()\n",
    "plt.show()"
   ]
  },
  {
   "cell_type": "code",
   "execution_count": null,
   "metadata": {},
   "outputs": [],
   "source": [
    "import pandas as pd\n",
    "import matplotlib.pyplot as plt\n",
    "from sklearn.preprocessing import MinMaxScaler\n",
    "\n",
    "df = results_all_bayesian_df[['num.trees', 'mtry', 'sample.fraction', 'min.node.size', 'replace', 'training_time']]\n",
    "\n",
    "scaler = MinMaxScaler()\n",
    "df_normalized = pd.DataFrame(scaler.fit_transform(df), columns=df.columns)\n",
    "\n",
    "# Parallel Coordinates Plot \n",
    "plt.figure(figsize=(15, 6))\n",
    "pd.plotting.parallel_coordinates(df_normalized, 'training_time', colormap='RdBu')\n",
    "plt.title('Parallel Coordinates Plot - Hyperparameter Combinations regarding Runtime Training')\n",
    "plt.xlabel('Hyperparameters')\n",
    "plt.ylabel('Relative Value')\n",
    "plt.legend().remove()\n",
    "plt.show()"
   ]
  },
  {
   "cell_type": "code",
   "execution_count": null,
   "metadata": {},
   "outputs": [],
   "source": [
    "import pandas as pd\n",
    "import matplotlib.pyplot as plt\n",
    "from sklearn.preprocessing import MinMaxScaler\n",
    "\n",
    "df = results_all_bayesian_df[['num.trees', 'mtry', 'sample.fraction', 'min.node.size', 'replace', 'prediction_time']]\n",
    "\n",
    "scaler = MinMaxScaler()\n",
    "df_normalized = pd.DataFrame(scaler.fit_transform(df), columns=df.columns)\n",
    "\n",
    "# Parallel Coordinates Plot \n",
    "plt.figure(figsize=(15, 6))\n",
    "pd.plotting.parallel_coordinates(df_normalized, 'prediction_time', colormap='RdBu')\n",
    "plt.title('Parallel Coordinates Plot - Hyperparameter Combinations regarding Runtime Predcition')\n",
    "plt.xlabel('Hyperparameters')\n",
    "plt.ylabel('Relative Value')\n",
    "plt.legend().remove()\n",
    "plt.show()"
   ]
  },
  {
   "cell_type": "markdown",
   "metadata": {},
   "source": [
    "### Pareto"
   ]
  },
  {
   "cell_type": "code",
   "execution_count": 19,
   "metadata": {},
   "outputs": [
    {
     "name": "stdout",
     "output_type": "stream",
     "text": [
      "(560, 8)\n"
     ]
    }
   ],
   "source": [
    "# merge results_bayes and random\n",
    "\n",
    "df_bayes_temp = results_all_bayesian_df.drop(columns=[\"Round\"])\n",
    "df_bayes_temp.rename(columns={\"training_time\": \"runtime_training\", \"prediction_time\": \"runtime_prediction\"}, inplace=True)\n",
    "df_random_temp = results_all_random_df.drop(columns=[\"Unnamed: 0\"])\n",
    "df_results_all = pd.concat([df_bayes_temp, df_random_temp], axis=0)\n",
    "df_results_all"
   ]
  },
  {
   "cell_type": "code",
   "execution_count": 22,
   "metadata": {},
   "outputs": [
    {
     "data": {
      "application/vnd.plotly.v1+json": {
       "config": {
        "plotlyServerURL": "https://plot.ly"
       },
       "data": [
        {
         "marker": {
          "color": "red"
         },
         "mode": "markers",
         "name": "Pareto Front",
         "type": "scatter",
         "x": [
          990861329.391709,
          695936271.375732,
          800681456.665224,
          835210100.111946,
          890291471.417466,
          1367375825.29186,
          814569618.820698,
          719375185.793403,
          781475002.349711,
          722108886.322382,
          767876538.726562,
          838629239.239273,
          808078577.054804,
          1077951723.06644,
          659066123.139962,
          1593896857.03285,
          693578721.05019,
          1682593793.92161,
          1237614882.4887,
          1159426689.31284,
          767260813.481425,
          742034281.367468,
          685730992.268649,
          861489276.739028,
          779728011.230898,
          2082603191.59105,
          1317998782.85786,
          701088956.028245,
          718495126.742038,
          679649779.07436,
          932118378.506909,
          738946845.723806,
          681824984.42422,
          704104819.571158,
          723368667.429394,
          849156325.882497,
          671949054.47211,
          693054779.260526,
          1190360630.45134,
          930082842.132094,
          1814184861.00348,
          765236261.923268,
          879629895.21277,
          672945299.411072,
          1717286045.83202,
          634449237.85265,
          1711661064.35748,
          650875738.928904,
          764416587.562164,
          750165039.874293,
          1599834532.6709,
          712925591.148615,
          721095177.685564,
          978678642.712881,
          1595108416.46792,
          705930074.403336,
          921629692.831457,
          646324949.254494,
          702305099.338964,
          840165063.64299,
          683073199.078998,
          733789696.467374,
          680834523.158052,
          752626602.488708,
          1448579119.5459,
          645297892.863352,
          792037628.087846,
          1038306310.30837,
          731164009.750344,
          911595797.131914,
          770525976.136084,
          720859037.350867,
          730192182.226769,
          732541818.246398,
          731002447.654311,
          918448321.164486,
          765620292.87021,
          661087433.388951,
          1072693934.98821,
          709028092.641695,
          736136884.929796,
          831949870.800014,
          713411238.698732,
          860174245.40314,
          856575542.760658,
          844202667.262232,
          815966272.762902,
          738963550.977098,
          878200962.036956,
          973199146.009139,
          824499779.90764,
          2093552474.43113,
          712642320.988589,
          826558468.929026,
          718841354.589782,
          944843515.61097,
          1298265751.70385,
          992409142.698902,
          691551643.871676,
          787887989.449634,
          936378312.19711,
          956650261.856109,
          774296130.291402,
          696372663.496224,
          791549397.044645,
          748672778.737383,
          1281600728.03719,
          696699135.293527,
          779637917.171763,
          680497163.678016,
          703235009.257883,
          935579602.709711,
          790676410.974456,
          1882375966.28362,
          1286773281.73415,
          709428498.955669,
          773513979.557117,
          857085778.329974,
          697626136.179991,
          959251209.72293,
          1042297999.54464,
          818441889.988879,
          695327931.877808,
          1049878657.63718,
          664088113.125768,
          845156652.716439,
          1070815442.47353,
          1037120280.447,
          1026146204.30992,
          1192734454.44598,
          1465182527.49104,
          679443570.717579,
          833576134.300106,
          771161455.914258,
          836747051.518118,
          744150362.451036,
          768798930.359659,
          832655783.594808,
          867791636.466526,
          845773569.453263,
          928783505.392803,
          796643016.147272,
          873774309.769791,
          674788096.602517,
          955136767.821193,
          712738460.789409,
          1453361780.09367,
          694337535.166818,
          692148825.652383,
          696206682.496433,
          714735261.255359,
          854468186.165136,
          839320904.562119,
          693641093.633834,
          745391790.243823,
          711916761.738686,
          725062336.421482,
          932300492.34633,
          710130275.134223,
          694495299.293946,
          1499984635.1517,
          853941599.916281,
          660878937.29653,
          863225889.86074,
          798180897.14289,
          774820974.431046,
          724311238.546099,
          731615232.427363,
          854425068.832487,
          822908825.809396,
          688834740.737659,
          787385379.038361,
          825342072.085278,
          900983587.759694,
          734268634.30951,
          928214753.027942,
          1334275568.66302,
          663961877.893191,
          744874417.270286,
          777478590.652777,
          890651064.471881,
          721326757.178722,
          703537444.730383,
          739417953.910254,
          828956237.789463,
          901409754.929155,
          808198561.711953,
          748310596.51882,
          722941948.317167,
          773686894.797525,
          703602345.43552,
          722126220.002965,
          800780724.185476,
          880970428.857718,
          843426855.979185,
          826849098.474301,
          777310271.486236,
          696889757.244311,
          769932265.367848,
          891881322.728508,
          1038809918.12743,
          659369187.2123,
          929115173.347763,
          826970482.477543,
          975840280.635218,
          686251452.864105,
          1066854685.82152,
          1137567181.19314,
          846979414.288107,
          917518516.17135,
          660804204.771087,
          1462350849.61652,
          782343497.661609,
          826304502.981022,
          733434472.190732,
          1086587476.60763,
          740559910.604472,
          709136305.505251,
          699439708.859814,
          743888748.072403,
          720695293.944896,
          951908104.151291,
          754455480.440275,
          708167639.311111,
          844929730.011111,
          789157561.980222,
          717605011.68607,
          869018430.433537,
          777607321.950747,
          1009134065.36191,
          641789469.6027,
          910243084.313426,
          693500014.59902,
          760077102.10549,
          842705911.784146,
          752496429.746626,
          794908250.719715,
          834449681.046681,
          779375770.005278,
          791269802.128914,
          708591130.016895,
          843337674.971048,
          759774193.779526,
          753059581.850478,
          1093261179.54947,
          779311512.856481,
          727835882.860702,
          804027134.019956,
          753060549.729981,
          793874715.069986,
          1349660641.28525,
          703646685.217196,
          844438114.242996,
          713742141.721011,
          754456683.399994,
          831730783.60092,
          695354071.056612,
          1107482982.43581,
          698179581.637443,
          716348261.64036,
          886286512.000029,
          847189687.303353,
          1006297826.34503,
          749317688.701416,
          803637891.556781,
          884158305.152027,
          817014205.973359,
          759613234.664284,
          688131127.980337,
          1599775377.33835,
          663738438.746481,
          889012975.4109,
          819090911.145092,
          745601319.366884,
          669433508.252371,
          761426938.571159,
          761750742.084507,
          838754993.061254,
          770160577.099229,
          893914125.746635,
          953573762.910453,
          1022753120.65668,
          756320090.374336,
          705321512.650254,
          772884578.895121,
          806759235.07714,
          843652923.074362,
          691508675.174178,
          790966506.241987,
          745296811.202684,
          770847278.529717,
          699607908.184815,
          1221894947.74752,
          726804117.959203,
          829230200.221883,
          802617255.875659,
          756252800.419667,
          924042544.747572,
          751627325.302625,
          682361871.719771,
          696387056.662696,
          764783838.272229,
          794487081.778928,
          767917826.147825,
          1258263487.09847,
          776505808.063882,
          712372973.66535,
          813331162.998481,
          775538742.39605,
          731034904.654205,
          735845324.873996,
          855184984.225108,
          1052998052.45157,
          746172344.231527,
          844075571.602905,
          691795876.197904,
          659886010.462633,
          765240438.281993,
          729589097.91342,
          781917531.482925,
          829857087.903991,
          649722073.172357,
          794121370.305982,
          726939843.568377,
          676017191.291208,
          746532195.569131,
          784352984.667509,
          687750371.624883,
          676116869.085329,
          1117456624.89041,
          862857643.514969,
          830597076.783863,
          744966545.485672,
          813890854.410774,
          918487378.580406,
          679437023.866766,
          691602996.980019,
          798809334.905134,
          742952354.162012,
          844958084.731511,
          696304414.312229,
          708174720.481663,
          757775344.344193,
          1039342639.38966,
          764359193.645136,
          997167043.412358,
          807886075.436972,
          828969097.041675,
          1056712160.95971,
          1012079150.17321,
          882366283.750271,
          1554258388.86507,
          843659689.993821,
          676795571.968247,
          671075757.800094,
          800364190.070097,
          685233487.583857,
          896250715.230854,
          726534576.683716,
          711374234.105394,
          912673103.026488,
          797619876.470442,
          668248240.167779,
          825546880.837588,
          1082632922.71808,
          720963221.141917,
          813981086.260825,
          877929327.210987,
          848412927.485802,
          870900398.024329,
          891104858.842306,
          960472981.31169,
          1077609953.35521,
          968423667.720844,
          776347469.966157,
          1937437448.5594,
          756829314.828105,
          669537660.253695,
          749563734.791769,
          763309506.680037,
          747982943.580685,
          942151197.615381,
          824296038.842578,
          698099607.805315,
          756541620.436502,
          789854008.390526,
          995615416.49336,
          660619844.975214,
          816114977.783242,
          857126371.322601,
          721904100.488475,
          706505256.328895,
          644084793.353134,
          708766589.85304,
          731426270.176147,
          689054536.51734,
          1471459210.02812,
          990238342.221065,
          1039809120.24862,
          1836364912.70879,
          891136925.85228,
          923637621.877422,
          989820027.976772,
          701203399.732864,
          869604397.645393,
          687612809.484088,
          737342437.936525,
          778635125.914174,
          711312817.161662,
          796464465.240488,
          712610246.25373,
          737661096.335649,
          968534743.177292,
          952835290.019059,
          672249780.013633,
          744944859.734417,
          728839835.155571,
          739743531.572515,
          760622032.596789,
          989830366.185725,
          705857807.777217,
          830727449.5801,
          940707196.584731,
          740155852.821508,
          997401319.506355,
          748515431.04163,
          810927692.309065,
          677598264.099074,
          789811221.208517,
          1918432744.98695,
          880991586.433411,
          736187284.711878,
          771079333.639968,
          677019956.721623,
          735152767.982533,
          669222757.768832,
          731220487.804988,
          934361592.609565,
          767589177.871202,
          762848041.670008,
          787280679.962074,
          719953841.122034,
          878278709.70977,
          897327266.861832,
          697583722.272687,
          727918042.132706,
          760918554.601387,
          1169890560.95766,
          809814330.037905,
          751281256.37082,
          732148972.336629,
          907776965.159506,
          668329877.035401,
          698245342.777833,
          799128004.440284,
          718580113.132329,
          824469958.090072,
          790469577.820209,
          834485543.627771,
          708594033.20178,
          690376138.866076,
          1018779591.4997,
          901130236.741608,
          738973586.088743,
          1817191053.19617,
          809558332.167892,
          805216065.584638,
          821051815.61008,
          822482252.825703,
          659011356.118185,
          1055086243.4505,
          671771689.329592,
          984857351.308223,
          677503478.424377,
          903595371.630418,
          748392817.382188,
          733398359.773601,
          637557921.554998,
          668162216.928987,
          821118785.374554,
          680143850.598867,
          1130585357.05793,
          705908602.207892,
          753540657.877851,
          781288973.794636,
          808396217.130322,
          797546226.517928,
          703582106.412142,
          951663636.156573,
          667529059.308161,
          870875003.741616,
          975344300.90836,
          1898973985.04546,
          804718997.018721,
          869959505.202735,
          703910445.935047,
          656480867.03207,
          723535473.599427,
          811582793.10952,
          752322232.565858,
          770675603.478696,
          722948362.018719,
          1113639078.44092,
          829747684.377472,
          798647986.589878,
          792766970.794216,
          966527415.62295,
          842955928.878104,
          911288304.707246,
          1348813680.3853,
          675416926.848437,
          785481148.432948,
          947772018.540528,
          655819312.905296,
          837377557.444361,
          716113277.147747,
          728445256.478819,
          739282561.724829,
          734840617.838178,
          1029861392.1447,
          801514634.546324,
          822899303.055122,
          695330063.07168,
          841008923.264904,
          728600350.817124,
          1053695740.34981,
          685260624.856925,
          708692844.746124,
          674894990.13332,
          695934648.762827,
          805909962.76799,
          702707284.01992,
          730394371.229625,
          741603114.309552,
          748463212.560904,
          670466692.63923,
          686578671.028192,
          817126527.093647,
          1124058110.64553,
          938955317.553423,
          725040489.998562,
          697196233.562905,
          771967386.589441,
          845834485.744149,
          755725786.663325,
          751670282.280078,
          726765756.076743,
          772448501.923436,
          999475257.765519,
          890503635.258629
         ],
         "y": [
          0.0580000000001746,
          0.0419999999998254,
          0.0319999999999709,
          0.0460000000006403,
          0.0319999999999709,
          0.0400000000001455,
          0.0539999999993597,
          0.0360000000007858,
          0.0480000000003201,
          0.0380000000004657,
          0.0620000000009895,
          0.0880000000004657,
          0.0799999999988358,
          0.0180000000014843,
          0.297999999999593,
          0.019999999999709,
          0.0819999999999709,
          0.0640000000006694,
          0.0180000000000291,
          0.0139999999992142,
          0.461999999999534,
          0.107999999999447,
          0.0779999999998836,
          0.0599999999998545,
          0.0880000000004657,
          0.0260000000002037,
          0.0120000000002619,
          0.130000000000291,
          0.0719999999993888,
          0.107999999999447,
          0.0260000000002037,
          0.0499999999992724,
          0.0900000000001455,
          0.15,
          0.0540000000008149,
          0.0999999999992724,
          0.179999999998836,
          0.0999999999992724,
          0.0239999999990687,
          0.0540000000000873,
          0.0239999999997963,
          0.0180000000007567,
          0.0599999999998545,
          0.115999999999622,
          0.0459999999991851,
          0.154000000000087,
          0.0600000000013097,
          0.0979999999995926,
          0.0739999999990687,
          0.0619999999988067,
          0.042000000000553,
          0.0419999999998254,
          0.0540000000008149,
          0.0659999999988941,
          0.0280000000013388,
          0.0659999999988941,
          0.0619999999995343,
          0.330000000000291,
          0.0859999999999996,
          0.0299999999999997,
          0.0240000000000009,
          0.0660000000000004,
          0.038000000000001,
          0.0439999999999998,
          0.0299999999999997,
          0.0719999999999999,
          0.0540000000000006,
          0.0280000000000001,
          0.0220000000000027,
          0.0319999999999993,
          0.0400000000000034,
          0.0260000000000019,
          0.0319999999999993,
          0.0219999999999942,
          0.0579999999999927,
          0.0359999999999985,
          0.0259999999999991,
          0.0639999999999986,
          0.0160000000000025,
          0.0340000000000032,
          0.0380000000000024,
          0.0280000000000001,
          0.0259999999999991,
          0.0199999999999989,
          0.0259999999999991,
          0.0380000000000052,
          0.0359999999999985,
          0.0480000000000018,
          0.039999999999992,
          0.0259999999999991,
          0.0339999999999975,
          0.0299999999999955,
          0.0360000000000014,
          0.0379999999999995,
          0.0459999999999923,
          0.0299999999999955,
          0.0399999999999977,
          0.0259999999999934,
          0.0759999999999991,
          0.0559999999999945,
          0.0419999999999959,
          0.0620000000000005,
          0.0199999999999932,
          0.0199999999999989,
          0.0260000000000048,
          0.045999999999998,
          0.0339999999999975,
          0.0339999999999975,
          0.0220000000000084,
          0.06400000000001,
          0.0259999999999991,
          0.0520000000000039,
          0.0379999999999939,
          0.028000000000003,
          0.0159999999999968,
          0.0339999999999975,
          0.0279999999999973,
          0.0240000000000009,
          0.0600000000000023,
          0.0240000000000009,
          0.0500000000000057,
          0.0300000000000125,
          0.03599999999999,
          0.0360000000000014,
          0.0699999999999932,
          0.0580000000000041,
          0.0219999999999914,
          0.0259999999999991,
          0.0379999999999995,
          0.0259999999999877,
          0.0279999999999859,
          0.05,
          0.03599999999999,
          0.0320000000000164,
          0.0439999999999827,
          0.0580000000000041,
          0.0439999999999941,
          0.0399999999999977,
          0.0480000000000018,
          0.0339999999999918,
          0.0319999999999936,
          0.0480000000000132,
          0.0220000000000027,
          0.0659999999999968,
          0.0360000000000014,
          0.0360000000000014,
          0.0360000000000014,
          0.0299999999999841,
          0.0339999999999918,
          0.0620000000000005,
          0.0559999999999945,
          0.0520000000000096,
          0.0380000000000223,
          0.067999999999995,
          0.0220000000000027,
          0.0259999999999991,
          0.0279999999999745,
          0.0159999999999968,
          0.0599999999999909,
          0.0620000000000005,
          0.017999999999995,
          0.0439999999999941,
          0.032000000000005,
          0.0380000000000109,
          0.0619999999999891,
          0.0480000000000132,
          0.0220000000000368,
          0.0239999999999782,
          0.0440000000000055,
          0.017999999999995,
          0.0500000000000114,
          0.0619999999999891,
          0.0319999999999709,
          0.0220000000000027,
          0.0319999999999823,
          0.0279999999999973,
          0.0339999999999918,
          0.0620000000000005,
          0.0599999999999795,
          0.0520000000000209,
          0.0259999999999764,
          0.0540000000000191,
          0.0599999999999909,
          0.0399999999999864,
          0.06599999999994,
          0.0299999999999727,
          0.04399999999996,
          0.05,
          0.0420000000000073,
          0.0400000000000091,
          0.0379999999999882,
          0.0180000000000291,
          0.0400000000000091,
          0.0240000000000009,
          0.0400000000000091,
          0.0379999999999654,
          0.0639999999999873,
          0.0579999999999927,
          0.0399999999999864,
          0.101999999999998,
          0.0320000000000164,
          0.0779999999999973,
          0.0419999999999618,
          0.0480000000000018,
          0.0319999999999936,
          0.0580000000000155,
          0.0299999999999727,
          0.0440000000000055,
          0.0259999999999764,
          0.0499999999999545,
          0.0620000000000118,
          0.0379999999999882,
          0.0519999999999982,
          0.05,
          0.0579999999999927,
          0.0379999999999882,
          0.0240000000000236,
          0.0480000000000018,
          0.0180000000000064,
          0.0220000000000027,
          0.0580000000000382,
          0.0220000000000027,
          0.0299999999999955,
          0.0560000000000173,
          0.0380000000000109,
          0.0199999999999818,
          0.0539999999999509,
          0.0279999999999973,
          0.0679999999999609,
          0.0159999999999854,
          0.0580000000000155,
          0.0519999999999982,
          0.0660000000000309,
          0.0499999999999773,
          0.0360000000000355,
          0.0580000000000609,
          0.0499999999999773,
          0.0299999999999955,
          0.06400000000001,
          0.0320000000000164,
          0.0599999999999909,
          0.0160000000000082,
          0.0180000000000064,
          0.0240000000000009,
          0.0419999999999845,
          0.0539999999999736,
          0.0200000000000273,
          0.03599999999999,
          0.0460000000000264,
          0.0519999999999527,
          0.0220000000000027,
          0.0559999999999945,
          0.0420000000000073,
          0.0339999999999691,
          0.0419999999999845,
          0.02800000000002,
          0.0900000000000318,
          0.0360000000000355,
          0.0419999999999845,
          0.0459999999999809,
          0.0480000000000018,
          0.0420000000000073,
          0.0399999999999864,
          0.0279999999999973,
          0.01400000000001,
          0.0380000000000109,
          0.0419999999999845,
          0.0199999999999818,
          0.0720000000000027,
          0.05,
          0.0800000000000182,
          0.0639999999999873,
          0.0299999999999727,
          0.0319999999999936,
          0.0299999999999955,
          0.05,
          0.0519999999999754,
          0.0259999999999991,
          0.0299999999999727,
          0.0520000000000209,
          0.0400000000000091,
          0.0200000000000045,
          0.0160000000000082,
          0.0520000000000437,
          0.0579999999999927,
          0.0340000000000146,
          0.0400000000000091,
          0.0299999999999727,
          0.0340000000000146,
          0.0619999999999891,
          0.0519999999999982,
          0.0480000000000473,
          0.02800000000002,
          0.0339999999999691,
          0.0560000000000855,
          0.0399999999999636,
          0.0220000000000255,
          0.0519999999999527,
          0.05,
          0.0180000000000291,
          0.0460000000000036,
          0.0559999999999945,
          0.0399999999999636,
          0.0360000000000127,
          0.0360000000000127,
          0.0320000000000164,
          0.0479999999999563,
          0.0240000000000236,
          0.0520000000000891,
          0.0480000000000018,
          0.0240000000000236,
          0.0260000000000218,
          0.0320000000000618,
          0.04399999999996,
          0.0480000000000018,
          0.0259999999999764,
          0.0520000000000891,
          0.0459999999999582,
          0.05,
          0.0579999999999927,
          0.0559999999999945,
          0.0539999999999964,
          0.0680000000000746,
          0.0299999999999727,
          0.0640000000000327,
          0.05,
          0.0420000000000073,
          0.0319999999999709,
          0.0179999999999836,
          0.0139999999999873,
          0.0399999999999636,
          0.0380000000000109,
          0.0500000000000455,
          0.0340000000000146,
          0.0379999999999654,
          0.0639999999999873,
          0.0239999999999782,
          0.0279999999999745,
          0.0460000000000491,
          0.04399999999996,
          0.0300000000000182,
          0.0199999999999818,
          0.0360000000000582,
          0.0300000000000182,
          0.0559999999999945,
          0.04399999999996,
          0.0459999999999582,
          0.0359999999999673,
          0.050000000000091,
          0.04399999999996,
          0.0319999999999709,
          0.0400000000000091,
          0.0359999999999673,
          0.0259999999999764,
          0.0900000000000091,
          0.0199999999999818,
          0.0460000000000036,
          0.05,
          0.0380000000000109,
          0.0780000000000655,
          0.0400000000000091,
          0.0420000000000073,
          0.0400000000000091,
          0.02199999999998,
          0.0299999999999727,
          0.0400000000000091,
          0.0539999999999964,
          0.0200000000000273,
          0.0400000000000091,
          0.0159999999999854,
          0.0179999999999836,
          0.0340000000000146,
          0.0179999999999836,
          0.0239999999999782,
          0.0299999999999727,
          0.0440000000000055,
          0.0239999999999782,
          0.05,
          0.0259999999999764,
          0.0299999999999727,
          0.0479999999999563,
          0.0480000000000018,
          0.0520000000000437,
          0.0579999999999927,
          0.0339999999999691,
          0.0519999999999982,
          0.0320000000000164,
          0.0460000000000491,
          0.0480000000000473,
          0.0480000000000018,
          0.0400000000000091,
          0.0379999999999654,
          0.05,
          0.04399999999996,
          0.0460000000000036,
          0.0319999999999709,
          0.0360000000000127,
          0.0159999999999854,
          0.0179999999999836,
          0.0300000000000182,
          0.0159999999999854,
          0.0319999999999709,
          0.0300000000000182,
          0.0200000000000273,
          0.04399999999996,
          0.02800000000002,
          0.0560000000000855,
          0.0500000000000455,
          0.0320000000000164,
          0.0319999999999709,
          0.02800000000002,
          0.0319999999999709,
          0.0299999999999727,
          0.0159999999999854,
          0.0519999999999527,
          0.0639999999999873,
          0.0199999999999818,
          0.0339999999999691,
          0.0340000000000146,
          0.0300000000000182,
          0.0599999999999909,
          0.0320000000000164,
          0.02800000000002,
          0.0239999999999782,
          0.0340000000000146,
          0.0460000000000946,
          0.0259999999999764,
          0.07800000000002,
          0.0319999999999709,
          0.0379999999999654,
          0.0420000000000073,
          0.0340000000000146,
          0.0639999999999873,
          0.0379999999999654,
          0.0519999999999527,
          0.11800000000012,
          0.0720000000000709,
          0.0360000000000582,
          0.0280000000000655,
          0.0419999999999618,
          0.0199999999999818,
          0.0239999999999782,
          0.0260000000000218,
          0.0339999999999691,
          0.0360000000000127,
          0.0379999999999654,
          0.0259999999999764,
          0.0320000000000618,
          0.0520000000000891,
          0.050000000000091,
          0.0659999999999854,
          0.0239999999999782,
          0.0519999999999982,
          0.0920000000000982,
          0.0240000000000236,
          0.0620000000000346,
          0.0220000000000709,
          0.0279999999999745,
          0.0239999999999782,
          0.0440000000000055,
          0.0720000000000255,
          0.0199999999999818,
          0.0460000000000036,
          0.0239999999999782,
          0.0320000000000164,
          0.05600000000004,
          0.02199999999998,
          0.0460000000000036,
          0.04399999999996,
          0.0379999999999654,
          0.02800000000002,
          0.0259999999999764,
          0.0339999999999691,
          0.04399999999996,
          0.0459999999999582,
          0.02199999999998,
          0.0420000000000073,
          0.157999999999993,
          0.0799999999999272,
          0.0460000000000036,
          0.113999999999942,
          0.0480000000000018,
          0.05600000000004,
          0.0199999999999818,
          0.02800000000002,
          0.0300000000000182,
          0.0339999999999691,
          0.0239999999999782,
          0.0260000000000218,
          0.0440000000000509,
          0.05,
          0.0419999999999618,
          0.0440000000000055,
          0.0420000000000528,
          0.0339999999999691,
          0.0460000000000491,
          0.0440000000000509,
          0.0259999999999764,
          0.0300000000000182,
          0.0239999999999782,
          0.0179999999999836,
          0.0580000000000837,
          0.0339999999999236,
          0.0140000000000327,
          0.0239999999999782,
          0.0180000000000291,
          0.0320000000000618,
          0.0380000000000109,
          0.0300000000001091,
          0.0199999999999818,
          0.0280000000001564,
          0.0260000000000218,
          0.0299999999998363,
          0.111999999999898,
          0.0260000000000218,
          0.0680000000000291,
          0.0199999999999818,
          0.050000000000091,
          0.0339999999999236,
          0.0299999999999272,
          0.0320000000000618,
          0.0220000000001164,
          0.037999999999829,
          0.0460000000000036,
          0.0420000000000073,
          0.0460000000000036,
          0.0199999999999818,
          0.0700000000000728,
          0.0560000000002219,
          0.05,
          0.0460000000000036,
          0.0299999999997453,
          0.0420000000000073,
          0.0559999999999491,
          0.0340000000001055,
          0.0580000000000837,
          0.0700000000000728,
          0.0479999999999563,
          0.0200000000000728,
          0.0140000000001237,
          0.0599999999999454,
          0.0619999999999891,
          0.0380000000001019,
          0.0300000000000182,
          0.11200000000008,
          0.0260000000000218,
          0.0419999999998254,
          0.0460000000000946,
          0.0319999999999709,
          0.0179999999999382
         ]
        },
        {
         "marker": {
          "color": "blue"
         },
         "mode": "markers",
         "name": "Other Points",
         "type": "scatter",
         "x": [
          633878888.201454,
          625717099.139954,
          1045997388.69089,
          644932995.032359,
          648111373.387673,
          763739921.969065,
          659706434.51081,
          646320391.65002,
          1034804366.02835,
          640691249.418829
         ],
         "y": [
          0.148000000001048,
          0.36200000000099,
          0.0120000000000005,
          0.0380000000000109,
          0.0239999999999782,
          0.0139999999999873,
          0.0139999999999873,
          0.0380000000000109,
          0.0120000000000346,
          0.0479999999999563
         ]
        }
       ],
       "layout": {
        "legend": {
         "title": {
          "text": "Points Type"
         }
        },
        "template": {
         "data": {
          "bar": [
           {
            "error_x": {
             "color": "#2a3f5f"
            },
            "error_y": {
             "color": "#2a3f5f"
            },
            "marker": {
             "line": {
              "color": "#E5ECF6",
              "width": 0.5
             },
             "pattern": {
              "fillmode": "overlay",
              "size": 10,
              "solidity": 0.2
             }
            },
            "type": "bar"
           }
          ],
          "barpolar": [
           {
            "marker": {
             "line": {
              "color": "#E5ECF6",
              "width": 0.5
             },
             "pattern": {
              "fillmode": "overlay",
              "size": 10,
              "solidity": 0.2
             }
            },
            "type": "barpolar"
           }
          ],
          "carpet": [
           {
            "aaxis": {
             "endlinecolor": "#2a3f5f",
             "gridcolor": "white",
             "linecolor": "white",
             "minorgridcolor": "white",
             "startlinecolor": "#2a3f5f"
            },
            "baxis": {
             "endlinecolor": "#2a3f5f",
             "gridcolor": "white",
             "linecolor": "white",
             "minorgridcolor": "white",
             "startlinecolor": "#2a3f5f"
            },
            "type": "carpet"
           }
          ],
          "choropleth": [
           {
            "colorbar": {
             "outlinewidth": 0,
             "ticks": ""
            },
            "type": "choropleth"
           }
          ],
          "contour": [
           {
            "colorbar": {
             "outlinewidth": 0,
             "ticks": ""
            },
            "colorscale": [
             [
              0,
              "#0d0887"
             ],
             [
              0.1111111111111111,
              "#46039f"
             ],
             [
              0.2222222222222222,
              "#7201a8"
             ],
             [
              0.3333333333333333,
              "#9c179e"
             ],
             [
              0.4444444444444444,
              "#bd3786"
             ],
             [
              0.5555555555555556,
              "#d8576b"
             ],
             [
              0.6666666666666666,
              "#ed7953"
             ],
             [
              0.7777777777777778,
              "#fb9f3a"
             ],
             [
              0.8888888888888888,
              "#fdca26"
             ],
             [
              1,
              "#f0f921"
             ]
            ],
            "type": "contour"
           }
          ],
          "contourcarpet": [
           {
            "colorbar": {
             "outlinewidth": 0,
             "ticks": ""
            },
            "type": "contourcarpet"
           }
          ],
          "heatmap": [
           {
            "colorbar": {
             "outlinewidth": 0,
             "ticks": ""
            },
            "colorscale": [
             [
              0,
              "#0d0887"
             ],
             [
              0.1111111111111111,
              "#46039f"
             ],
             [
              0.2222222222222222,
              "#7201a8"
             ],
             [
              0.3333333333333333,
              "#9c179e"
             ],
             [
              0.4444444444444444,
              "#bd3786"
             ],
             [
              0.5555555555555556,
              "#d8576b"
             ],
             [
              0.6666666666666666,
              "#ed7953"
             ],
             [
              0.7777777777777778,
              "#fb9f3a"
             ],
             [
              0.8888888888888888,
              "#fdca26"
             ],
             [
              1,
              "#f0f921"
             ]
            ],
            "type": "heatmap"
           }
          ],
          "heatmapgl": [
           {
            "colorbar": {
             "outlinewidth": 0,
             "ticks": ""
            },
            "colorscale": [
             [
              0,
              "#0d0887"
             ],
             [
              0.1111111111111111,
              "#46039f"
             ],
             [
              0.2222222222222222,
              "#7201a8"
             ],
             [
              0.3333333333333333,
              "#9c179e"
             ],
             [
              0.4444444444444444,
              "#bd3786"
             ],
             [
              0.5555555555555556,
              "#d8576b"
             ],
             [
              0.6666666666666666,
              "#ed7953"
             ],
             [
              0.7777777777777778,
              "#fb9f3a"
             ],
             [
              0.8888888888888888,
              "#fdca26"
             ],
             [
              1,
              "#f0f921"
             ]
            ],
            "type": "heatmapgl"
           }
          ],
          "histogram": [
           {
            "marker": {
             "pattern": {
              "fillmode": "overlay",
              "size": 10,
              "solidity": 0.2
             }
            },
            "type": "histogram"
           }
          ],
          "histogram2d": [
           {
            "colorbar": {
             "outlinewidth": 0,
             "ticks": ""
            },
            "colorscale": [
             [
              0,
              "#0d0887"
             ],
             [
              0.1111111111111111,
              "#46039f"
             ],
             [
              0.2222222222222222,
              "#7201a8"
             ],
             [
              0.3333333333333333,
              "#9c179e"
             ],
             [
              0.4444444444444444,
              "#bd3786"
             ],
             [
              0.5555555555555556,
              "#d8576b"
             ],
             [
              0.6666666666666666,
              "#ed7953"
             ],
             [
              0.7777777777777778,
              "#fb9f3a"
             ],
             [
              0.8888888888888888,
              "#fdca26"
             ],
             [
              1,
              "#f0f921"
             ]
            ],
            "type": "histogram2d"
           }
          ],
          "histogram2dcontour": [
           {
            "colorbar": {
             "outlinewidth": 0,
             "ticks": ""
            },
            "colorscale": [
             [
              0,
              "#0d0887"
             ],
             [
              0.1111111111111111,
              "#46039f"
             ],
             [
              0.2222222222222222,
              "#7201a8"
             ],
             [
              0.3333333333333333,
              "#9c179e"
             ],
             [
              0.4444444444444444,
              "#bd3786"
             ],
             [
              0.5555555555555556,
              "#d8576b"
             ],
             [
              0.6666666666666666,
              "#ed7953"
             ],
             [
              0.7777777777777778,
              "#fb9f3a"
             ],
             [
              0.8888888888888888,
              "#fdca26"
             ],
             [
              1,
              "#f0f921"
             ]
            ],
            "type": "histogram2dcontour"
           }
          ],
          "mesh3d": [
           {
            "colorbar": {
             "outlinewidth": 0,
             "ticks": ""
            },
            "type": "mesh3d"
           }
          ],
          "parcoords": [
           {
            "line": {
             "colorbar": {
              "outlinewidth": 0,
              "ticks": ""
             }
            },
            "type": "parcoords"
           }
          ],
          "pie": [
           {
            "automargin": true,
            "type": "pie"
           }
          ],
          "scatter": [
           {
            "fillpattern": {
             "fillmode": "overlay",
             "size": 10,
             "solidity": 0.2
            },
            "type": "scatter"
           }
          ],
          "scatter3d": [
           {
            "line": {
             "colorbar": {
              "outlinewidth": 0,
              "ticks": ""
             }
            },
            "marker": {
             "colorbar": {
              "outlinewidth": 0,
              "ticks": ""
             }
            },
            "type": "scatter3d"
           }
          ],
          "scattercarpet": [
           {
            "marker": {
             "colorbar": {
              "outlinewidth": 0,
              "ticks": ""
             }
            },
            "type": "scattercarpet"
           }
          ],
          "scattergeo": [
           {
            "marker": {
             "colorbar": {
              "outlinewidth": 0,
              "ticks": ""
             }
            },
            "type": "scattergeo"
           }
          ],
          "scattergl": [
           {
            "marker": {
             "colorbar": {
              "outlinewidth": 0,
              "ticks": ""
             }
            },
            "type": "scattergl"
           }
          ],
          "scattermapbox": [
           {
            "marker": {
             "colorbar": {
              "outlinewidth": 0,
              "ticks": ""
             }
            },
            "type": "scattermapbox"
           }
          ],
          "scatterpolar": [
           {
            "marker": {
             "colorbar": {
              "outlinewidth": 0,
              "ticks": ""
             }
            },
            "type": "scatterpolar"
           }
          ],
          "scatterpolargl": [
           {
            "marker": {
             "colorbar": {
              "outlinewidth": 0,
              "ticks": ""
             }
            },
            "type": "scatterpolargl"
           }
          ],
          "scatterternary": [
           {
            "marker": {
             "colorbar": {
              "outlinewidth": 0,
              "ticks": ""
             }
            },
            "type": "scatterternary"
           }
          ],
          "surface": [
           {
            "colorbar": {
             "outlinewidth": 0,
             "ticks": ""
            },
            "colorscale": [
             [
              0,
              "#0d0887"
             ],
             [
              0.1111111111111111,
              "#46039f"
             ],
             [
              0.2222222222222222,
              "#7201a8"
             ],
             [
              0.3333333333333333,
              "#9c179e"
             ],
             [
              0.4444444444444444,
              "#bd3786"
             ],
             [
              0.5555555555555556,
              "#d8576b"
             ],
             [
              0.6666666666666666,
              "#ed7953"
             ],
             [
              0.7777777777777778,
              "#fb9f3a"
             ],
             [
              0.8888888888888888,
              "#fdca26"
             ],
             [
              1,
              "#f0f921"
             ]
            ],
            "type": "surface"
           }
          ],
          "table": [
           {
            "cells": {
             "fill": {
              "color": "#EBF0F8"
             },
             "line": {
              "color": "white"
             }
            },
            "header": {
             "fill": {
              "color": "#C8D4E3"
             },
             "line": {
              "color": "white"
             }
            },
            "type": "table"
           }
          ]
         },
         "layout": {
          "annotationdefaults": {
           "arrowcolor": "#2a3f5f",
           "arrowhead": 0,
           "arrowwidth": 1
          },
          "autotypenumbers": "strict",
          "coloraxis": {
           "colorbar": {
            "outlinewidth": 0,
            "ticks": ""
           }
          },
          "colorscale": {
           "diverging": [
            [
             0,
             "#8e0152"
            ],
            [
             0.1,
             "#c51b7d"
            ],
            [
             0.2,
             "#de77ae"
            ],
            [
             0.3,
             "#f1b6da"
            ],
            [
             0.4,
             "#fde0ef"
            ],
            [
             0.5,
             "#f7f7f7"
            ],
            [
             0.6,
             "#e6f5d0"
            ],
            [
             0.7,
             "#b8e186"
            ],
            [
             0.8,
             "#7fbc41"
            ],
            [
             0.9,
             "#4d9221"
            ],
            [
             1,
             "#276419"
            ]
           ],
           "sequential": [
            [
             0,
             "#0d0887"
            ],
            [
             0.1111111111111111,
             "#46039f"
            ],
            [
             0.2222222222222222,
             "#7201a8"
            ],
            [
             0.3333333333333333,
             "#9c179e"
            ],
            [
             0.4444444444444444,
             "#bd3786"
            ],
            [
             0.5555555555555556,
             "#d8576b"
            ],
            [
             0.6666666666666666,
             "#ed7953"
            ],
            [
             0.7777777777777778,
             "#fb9f3a"
            ],
            [
             0.8888888888888888,
             "#fdca26"
            ],
            [
             1,
             "#f0f921"
            ]
           ],
           "sequentialminus": [
            [
             0,
             "#0d0887"
            ],
            [
             0.1111111111111111,
             "#46039f"
            ],
            [
             0.2222222222222222,
             "#7201a8"
            ],
            [
             0.3333333333333333,
             "#9c179e"
            ],
            [
             0.4444444444444444,
             "#bd3786"
            ],
            [
             0.5555555555555556,
             "#d8576b"
            ],
            [
             0.6666666666666666,
             "#ed7953"
            ],
            [
             0.7777777777777778,
             "#fb9f3a"
            ],
            [
             0.8888888888888888,
             "#fdca26"
            ],
            [
             1,
             "#f0f921"
            ]
           ]
          },
          "colorway": [
           "#636efa",
           "#EF553B",
           "#00cc96",
           "#ab63fa",
           "#FFA15A",
           "#19d3f3",
           "#FF6692",
           "#B6E880",
           "#FF97FF",
           "#FECB52"
          ],
          "font": {
           "color": "#2a3f5f"
          },
          "geo": {
           "bgcolor": "white",
           "lakecolor": "white",
           "landcolor": "#E5ECF6",
           "showlakes": true,
           "showland": true,
           "subunitcolor": "white"
          },
          "hoverlabel": {
           "align": "left"
          },
          "hovermode": "closest",
          "mapbox": {
           "style": "light"
          },
          "paper_bgcolor": "white",
          "plot_bgcolor": "#E5ECF6",
          "polar": {
           "angularaxis": {
            "gridcolor": "white",
            "linecolor": "white",
            "ticks": ""
           },
           "bgcolor": "#E5ECF6",
           "radialaxis": {
            "gridcolor": "white",
            "linecolor": "white",
            "ticks": ""
           }
          },
          "scene": {
           "xaxis": {
            "backgroundcolor": "#E5ECF6",
            "gridcolor": "white",
            "gridwidth": 2,
            "linecolor": "white",
            "showbackground": true,
            "ticks": "",
            "zerolinecolor": "white"
           },
           "yaxis": {
            "backgroundcolor": "#E5ECF6",
            "gridcolor": "white",
            "gridwidth": 2,
            "linecolor": "white",
            "showbackground": true,
            "ticks": "",
            "zerolinecolor": "white"
           },
           "zaxis": {
            "backgroundcolor": "#E5ECF6",
            "gridcolor": "white",
            "gridwidth": 2,
            "linecolor": "white",
            "showbackground": true,
            "ticks": "",
            "zerolinecolor": "white"
           }
          },
          "shapedefaults": {
           "line": {
            "color": "#2a3f5f"
           }
          },
          "ternary": {
           "aaxis": {
            "gridcolor": "white",
            "linecolor": "white",
            "ticks": ""
           },
           "baxis": {
            "gridcolor": "white",
            "linecolor": "white",
            "ticks": ""
           },
           "bgcolor": "#E5ECF6",
           "caxis": {
            "gridcolor": "white",
            "linecolor": "white",
            "ticks": ""
           }
          },
          "title": {
           "x": 0.05
          },
          "xaxis": {
           "automargin": true,
           "gridcolor": "white",
           "linecolor": "white",
           "ticks": "",
           "title": {
            "standoff": 15
           },
           "zerolinecolor": "white",
           "zerolinewidth": 2
          },
          "yaxis": {
           "automargin": true,
           "gridcolor": "white",
           "linecolor": "white",
           "ticks": "",
           "title": {
            "standoff": 15
           },
           "zerolinecolor": "white",
           "zerolinewidth": 2
          }
         }
        },
        "title": {
         "text": "mse vs runtime_prediction"
        },
        "xaxis": {
         "title": {
          "text": "mse"
         }
        },
        "yaxis": {
         "title": {
          "text": "runtime_prediction"
         }
        }
       }
      }
     },
     "metadata": {},
     "output_type": "display_data"
    }
   ],
   "source": [
    "import plotly.graph_objects as go\n",
    "\n",
    "# calculate pareto front\n",
    "def is_pareto_front(row):\n",
    "    # Check if there is no other row with lower 'mse' and lower 'runtime_prediction'\n",
    "    return not df_results_all[(df_results_all['mse'] < row['mse']) & (df_results_all['runtime_prediction'] < row['runtime_prediction'])].empty\n",
    "df_results_all['pareto_front'] = df_results_all.apply(is_pareto_front, axis=1)\n",
    "\n",
    "# plot pareto front\n",
    "pareto_trace = go.Scatter(\n",
    "    x=df_results_all[df_results_all['pareto_front'] == True]['mse'],\n",
    "    y=df_results_all[df_results_all['pareto_front'] == True]['runtime_prediction'],\n",
    "    mode='markers',\n",
    "    marker=dict(color='red'),\n",
    "    name='Pareto Front'\n",
    ")\n",
    "\n",
    "# Create a scatter plot for the rest of the points\n",
    "other_points_trace = go.Scatter(\n",
    "    x=df_results_all[df_results_all['pareto_front'] == False]['mse'],\n",
    "    y=df_results_all[df_results_all['pareto_front'] == False]['runtime_prediction'],\n",
    "    mode='markers',\n",
    "    marker=dict(color='blue'),\n",
    "    name='Other Points'\n",
    ")\n",
    "\n",
    "# Combine the traces into a Figure\n",
    "fig = go.Figure(data=[pareto_trace, other_points_trace])\n",
    "\n",
    "# Customize the layout\n",
    "fig.update_layout(\n",
    "    title='mse vs runtime_prediction',\n",
    "    xaxis_title='mse',\n",
    "    yaxis_title='runtime_prediction',\n",
    "    legend_title='Points Type'\n",
    ")\n",
    "\n",
    "# Show the figure\n",
    "fig.show()"
   ]
  }
 ],
 "metadata": {
  "kernelspec": {
   "display_name": "Python 3",
   "language": "python",
   "name": "python3"
  },
  "language_info": {
   "codemirror_mode": {
    "name": "ipython",
    "version": 3
   },
   "file_extension": ".py",
   "mimetype": "text/x-python",
   "name": "python",
   "nbconvert_exporter": "python",
   "pygments_lexer": "ipython3",
   "version": "3.10.11"
  }
 },
 "nbformat": 4,
 "nbformat_minor": 2
}
