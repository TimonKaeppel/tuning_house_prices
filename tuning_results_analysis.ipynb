{
 "cells": [
  {
   "cell_type": "code",
   "execution_count": 2,
   "metadata": {},
   "outputs": [
    {
     "data": {
      "text/html": [
       "<div>\n",
       "<style scoped>\n",
       "    .dataframe tbody tr th:only-of-type {\n",
       "        vertical-align: middle;\n",
       "    }\n",
       "\n",
       "    .dataframe tbody tr th {\n",
       "        vertical-align: top;\n",
       "    }\n",
       "\n",
       "    .dataframe thead th {\n",
       "        text-align: right;\n",
       "    }\n",
       "</style>\n",
       "<table border=\"1\" class=\"dataframe\">\n",
       "  <thead>\n",
       "    <tr style=\"text-align: right;\">\n",
       "      <th></th>\n",
       "      <th>Unnamed: 0</th>\n",
       "      <th>num.trees</th>\n",
       "      <th>sample.fraction</th>\n",
       "      <th>mse</th>\n",
       "      <th>runtime_training</th>\n",
       "      <th>runtime_prediction</th>\n",
       "    </tr>\n",
       "  </thead>\n",
       "  <tbody>\n",
       "    <tr>\n",
       "      <th>0</th>\n",
       "      <td>elapsed</td>\n",
       "      <td>500</td>\n",
       "      <td>0.632</td>\n",
       "      <td>5.329769e+08</td>\n",
       "      <td>0.42</td>\n",
       "      <td>0.06</td>\n",
       "    </tr>\n",
       "    <tr>\n",
       "      <th>1</th>\n",
       "      <td>elapsed1</td>\n",
       "      <td>1000</td>\n",
       "      <td>0.632</td>\n",
       "      <td>5.304162e+08</td>\n",
       "      <td>0.85</td>\n",
       "      <td>0.08</td>\n",
       "    </tr>\n",
       "    <tr>\n",
       "      <th>2</th>\n",
       "      <td>elapsed2</td>\n",
       "      <td>1500</td>\n",
       "      <td>0.632</td>\n",
       "      <td>5.198575e+08</td>\n",
       "      <td>1.14</td>\n",
       "      <td>0.09</td>\n",
       "    </tr>\n",
       "    <tr>\n",
       "      <th>3</th>\n",
       "      <td>elapsed3</td>\n",
       "      <td>500</td>\n",
       "      <td>0.800</td>\n",
       "      <td>5.270968e+08</td>\n",
       "      <td>0.44</td>\n",
       "      <td>0.05</td>\n",
       "    </tr>\n",
       "    <tr>\n",
       "      <th>4</th>\n",
       "      <td>elapsed4</td>\n",
       "      <td>1000</td>\n",
       "      <td>0.800</td>\n",
       "      <td>5.125616e+08</td>\n",
       "      <td>0.78</td>\n",
       "      <td>0.06</td>\n",
       "    </tr>\n",
       "  </tbody>\n",
       "</table>\n",
       "</div>"
      ],
      "text/plain": [
       "  Unnamed: 0  num.trees  sample.fraction           mse  runtime_training  \\\n",
       "0    elapsed        500            0.632  5.329769e+08              0.42   \n",
       "1   elapsed1       1000            0.632  5.304162e+08              0.85   \n",
       "2   elapsed2       1500            0.632  5.198575e+08              1.14   \n",
       "3   elapsed3        500            0.800  5.270968e+08              0.44   \n",
       "4   elapsed4       1000            0.800  5.125616e+08              0.78   \n",
       "\n",
       "   runtime_prediction  \n",
       "0                0.06  \n",
       "1                0.08  \n",
       "2                0.09  \n",
       "3                0.05  \n",
       "4                0.06  "
      ]
     },
     "execution_count": 2,
     "metadata": {},
     "output_type": "execute_result"
    }
   ],
   "source": [
    "import pandas as pd\n",
    "\n",
    "df = pd.read_csv('./resources/results.csv')\n",
    "df.head()\n"
   ]
  }
 ],
 "metadata": {
  "kernelspec": {
   "display_name": "env",
   "language": "python",
   "name": "python3"
  },
  "language_info": {
   "codemirror_mode": {
    "name": "ipython",
    "version": 3
   },
   "file_extension": ".py",
   "mimetype": "text/x-python",
   "name": "python",
   "nbconvert_exporter": "python",
   "pygments_lexer": "ipython3",
   "version": "3.10.11"
  }
 },
 "nbformat": 4,
 "nbformat_minor": 2
}
